{
 "cells": [
  {
   "cell_type": "markdown",
   "metadata": {},
   "source": [
    "## TGenerating data with given parameters to test\n",
    "The program reads from a text file the paramaters of a distribution, generates N observables and checks that the obtained data meets the expected output"
   ]
  },
  {
   "cell_type": "code",
   "execution_count": 110,
   "metadata": {},
   "outputs": [
    {
     "name": "stdout",
     "output_type": "stream",
     "text": [
      "C:\\Users\\ardo0\\OneDrive\\Documenti\\GitHub\\MCDC-SpinSystem\\StatisticalAnalysis\n",
      "C:\\Users\\ardo0\\anaconda3\\python38.zip\n",
      "C:\\Users\\ardo0\\anaconda3\\DLLs\n",
      "C:\\Users\\ardo0\\anaconda3\\lib\n",
      "C:\\Users\\ardo0\\anaconda3\n",
      "\n",
      "C:\\Users\\ardo0\\anaconda3\\lib\\site-packages\n",
      "C:\\Users\\ardo0\\anaconda3\\lib\\site-packages\\win32\n",
      "C:\\Users\\ardo0\\anaconda3\\lib\\site-packages\\win32\\lib\n",
      "C:\\Users\\ardo0\\anaconda3\\lib\\site-packages\\Pythonwin\n",
      "C:\\Users\\ardo0\\anaconda3\\lib\\site-packages\\IPython\\extensions\n",
      "C:\\Users\\ardo0\\.ipython\n"
     ]
    }
   ],
   "source": [
    "import numpy as np\n",
    "from matplotlib import pyplot as plt\n",
    "import analysis_functions as af\n",
    "import math\n",
    "import sys\n",
    "\n",
    "for p in sys.path:\n",
    "    print(p)\n",
    "\n"
   ]
  },
  {
   "cell_type": "code",
   "execution_count": 81,
   "metadata": {},
   "outputs": [],
   "source": [
    "## Functions generating the sample data set"
   ]
  },
  {
   "cell_type": "code",
   "execution_count": null,
   "metadata": {},
   "outputs": [],
   "source": [
    "def distr_gaussnoise_A(length, mean, noise):\n",
    "    \n",
    "    # here exp(-r/X) = exp(-1)\n",
    "    length = int(length)\n",
    "    std = noise/100*mean\n",
    "    A = np.random.normal(mean, std, length)\n",
    "    corr = A*exp(-1)\n",
    "    #generate sequence of data up to N\n",
    "    #generate a polynomial with values first order in range [0,1] and y = x\n",
    "    y = np.zeros(length)\n",
    "    for n in range(length):\n",
    "        y[n] = \n",
    "        \n",
    "    \n",
    "    '''length = int(length)\n",
    "    std = np.sqrt(variance)\n",
    "    Z = np.random.normal(mean, std, length)\n",
    "    Y = np.array([mean + corr*Z[i] for i in range(length)])\n",
    "    norm = np.linalg.norm(Y)\n",
    "    \n",
    "    return Y/norm'''\n",
    "\n",
    "    \n",
    "def distr_gaussnoise_X(length, mean, noise):  \n",
    "    # A = 1\n",
    "    length = int(length)\n",
    "    std = noise/100*mean\n",
    "    X = np.random.normal(mean, std, length)\n",
    "    return 1*exp(-1/X)\n",
    "    \n",
    "def distr_gauss_ordered(length, mean, var):\n",
    "    pi = 3.14159265359\n",
    "    length = int(length)\n",
    "    std = np.sqrt(var)\n",
    "    x = np.arange(-5*std + mean, +5*std + mean, 10*std/length) \n",
    "    Z = np.array([1/(std*np.sqrt(2*pi))*np.exp(-1/2*((i-mean)/std)**2)  for i in x])\n",
    "    norm = np.linalg.norm(Z)\n",
    "    #Z = np.random.normal(mean, std, length)\n",
    "   \n",
    "    return Z/norm\n",
    "\n",
    "\n",
    "\n",
    "\n",
    "\n",
    "params = np.loadtxt(\"mockdata_params.txt\", skiprows=1)\n",
    "\n",
    "N = int(params[0])\n",
    "mu = params[1]\n",
    "var = params[2]\n",
    "corr = params[3]\n",
    "\n",
    "#mockdata = distr_gauss_correlated(params[0], params[1], params[2], params[3])\n",
    "mockdistr = distr_gauss_correlated(N, mu, var, corr)\n",
    "#print(np.linalg.norm(mockdata))\n",
    "np.savetxt(\"mock_dataset.out\", mockdistr)\n",
    "print(mockdistr)"
   ]
  },
  {
   "cell_type": "code",
   "execution_count": 83,
   "metadata": {},
   "outputs": [],
   "source": [
    "## Plotting of the data"
   ]
  },
  {
   "cell_type": "code",
   "execution_count": 84,
   "metadata": {},
   "outputs": [
    {
     "name": "stdout",
     "output_type": "stream",
     "text": [
      "[1.e+05 0.e+00 5.e+00 5.e-01]\n"
     ]
    },
    {
     "data": {
      "image/png": "[encoded data removed]",
      "text/plain": [
       "<Figure size 576x396 with 1 Axes>"
      ]
     },
     "metadata": {},
     "output_type": "display_data"
    }
   ],
   "source": [
    "plt.style.use(\"seaborn\")\n",
    "# takes the mock_data.out file and plots it\n",
    "mockdata = np.loadtxt(\"mock_dataset.out\")\n",
    "\n",
    "params = np.loadtxt(\"mockdata_params.txt\", skiprows=1)\n",
    "\n",
    "N = int(params[0])\n",
    "mu = params[1]\n",
    "var = params[2]\n",
    "corr = params[3]\n",
    "\n",
    "print(\"{}\".format(params))\n",
    "\n",
    "#x = np.arange(-5*np.sqrt(var) + mu, 5*np.sqrt(var) + mu, 10*np.sqrt(var)/N) \n",
    "\n",
    "# plot the distribution\n",
    "plt.tight_layout()\n",
    "plt.hist(mockdata, bins=100)\n",
    "plt.title(\"Normal distribution with  N={} mu={} var={} corr={}\".format(N,mu,var,corr))\n",
    "plt.xlabel(\"x\")\n",
    "plt.ylabel(\"N\")\n",
    "plt.savefig(\"normal_distribution_{}_{}_{}_{}.png\".format(N,mu,var,corr))\n",
    "plt.show()"
   ]
  },
  {
   "cell_type": "code",
   "execution_count": 85,
   "metadata": {},
   "outputs": [],
   "source": [
    "## Print out the statistical parameters obtained and compares with the input ones"
   ]
  },
  {
   "cell_type": "code",
   "execution_count": null,
   "metadata": {
    "collapsed": true
   },
   "outputs": [],
   "source": []
  },
  {
   "cell_type": "code",
   "execution_count": 108,
   "metadata": {
    "scrolled": true
   },
   "outputs": [
    {
     "name": "stdout",
     "output_type": "stream",
     "text": [
      "Mean = 1.0181594196484332e-05 \t Variance = 9.999896335139619e-06 \t\n",
      "\n"
     ]
    }
   ],
   "source": [
    "print(\"Mean = {} \\t Variance = {} \\t\\n\".format(np.mean(mockdata), np.var(mockdata)))"
   ]
  },
  {
   "cell_type": "code",
   "execution_count": 97,
   "metadata": {},
   "outputs": [
    {
     "ename": "IndexError",
     "evalue": "only integers, slices (`:`), ellipsis (`...`), numpy.newaxis (`None`) and integer or boolean arrays are valid indices",
     "output_type": "error",
     "traceback": [
      "\u001b[1;31m---------------------------------------------------------------------------\u001b[0m",
      "\u001b[1;31mIndexError\u001b[0m                                Traceback (most recent call last)",
      "\u001b[1;32m<ipython-input-97-a9ed509cc6b6>\u001b[0m in \u001b[0;36m<module>\u001b[1;34m\u001b[0m\n\u001b[0;32m     13\u001b[0m     \u001b[0mprint\u001b[0m\u001b[1;33m(\u001b[0m\u001b[1;34m\"Max difference between to samples of the observable = {} \\ttolerance = {}\\n\"\u001b[0m\u001b[1;33m.\u001b[0m\u001b[0mformat\u001b[0m\u001b[1;33m(\u001b[0m\u001b[0mnp\u001b[0m\u001b[1;33m.\u001b[0m\u001b[0mabs\u001b[0m\u001b[1;33m(\u001b[0m\u001b[0mnp\u001b[0m\u001b[1;33m.\u001b[0m\u001b[0mamax\u001b[0m\u001b[1;33m(\u001b[0m\u001b[0mtherm_sample\u001b[0m\u001b[1;33m)\u001b[0m\u001b[1;33m-\u001b[0m\u001b[0mnp\u001b[0m\u001b[1;33m.\u001b[0m\u001b[0mamin\u001b[0m\u001b[1;33m(\u001b[0m\u001b[0mtherm_sample\u001b[0m\u001b[1;33m)\u001b[0m\u001b[1;33m)\u001b[0m\u001b[1;33m,\u001b[0m\u001b[0mtolerance\u001b[0m\u001b[1;33m)\u001b[0m\u001b[1;33m)\u001b[0m\u001b[1;33m\u001b[0m\u001b[1;33m\u001b[0m\u001b[0m\n\u001b[0;32m     14\u001b[0m \u001b[1;33m\u001b[0m\u001b[0m\n\u001b[1;32m---> 15\u001b[1;33m \u001b[0mthermalization\u001b[0m\u001b[1;33m(\u001b[0m\u001b[0mmockdata\u001b[0m\u001b[1;33m,\u001b[0m\u001b[1;36m10\u001b[0m\u001b[1;33m,\u001b[0m\u001b[1;36m1\u001b[0m\u001b[1;33m)\u001b[0m\u001b[1;33m\u001b[0m\u001b[1;33m\u001b[0m\u001b[0m\n\u001b[0m",
      "\u001b[1;32m<ipython-input-97-a9ed509cc6b6>\u001b[0m in \u001b[0;36mthermalization\u001b[1;34m(func, N, tolerance)\u001b[0m\n\u001b[0;32m      9\u001b[0m \u001b[1;33m\u001b[0m\u001b[0m\n\u001b[0;32m     10\u001b[0m     \u001b[1;32mfor\u001b[0m \u001b[0mn\u001b[0m \u001b[1;32min\u001b[0m \u001b[0mrange\u001b[0m\u001b[1;33m(\u001b[0m\u001b[1;36m0\u001b[0m\u001b[1;33m,\u001b[0m\u001b[0mlen\u001b[0m\u001b[1;33m(\u001b[0m\u001b[0mtherm_sample\u001b[0m\u001b[1;33m)\u001b[0m\u001b[1;33m)\u001b[0m\u001b[1;33m:\u001b[0m\u001b[1;33m\u001b[0m\u001b[1;33m\u001b[0m\u001b[0m\n\u001b[1;32m---> 11\u001b[1;33m             \u001b[0mtherm_sample\u001b[0m\u001b[1;33m[\u001b[0m\u001b[0mn\u001b[0m\u001b[1;33m]\u001b[0m \u001b[1;33m=\u001b[0m \u001b[0maf\u001b[0m\u001b[1;33m.\u001b[0m\u001b[0mmean\u001b[0m\u001b[1;33m(\u001b[0m\u001b[0mfunc\u001b[0m\u001b[1;33m[\u001b[0m\u001b[0mint\u001b[0m\u001b[1;33m(\u001b[0m\u001b[0mn\u001b[0m\u001b[1;33m*\u001b[0m\u001b[0mN\u001b[0m\u001b[1;33m)\u001b[0m\u001b[1;33m:\u001b[0m\u001b[0mint\u001b[0m\u001b[1;33m(\u001b[0m\u001b[1;33m(\u001b[0m\u001b[0mn\u001b[0m\u001b[1;33m+\u001b[0m\u001b[1;36m1\u001b[0m\u001b[1;33m)\u001b[0m\u001b[1;33m*\u001b[0m\u001b[0mN\u001b[0m \u001b[1;33m-\u001b[0m\u001b[1;36m1\u001b[0m\u001b[1;33m)\u001b[0m\u001b[1;33m]\u001b[0m\u001b[1;33m)\u001b[0m\u001b[1;33m\u001b[0m\u001b[1;33m\u001b[0m\u001b[0m\n\u001b[0m\u001b[0;32m     12\u001b[0m \u001b[1;33m\u001b[0m\u001b[0m\n\u001b[0;32m     13\u001b[0m     \u001b[0mprint\u001b[0m\u001b[1;33m(\u001b[0m\u001b[1;34m\"Max difference between to samples of the observable = {} \\ttolerance = {}\\n\"\u001b[0m\u001b[1;33m.\u001b[0m\u001b[0mformat\u001b[0m\u001b[1;33m(\u001b[0m\u001b[0mnp\u001b[0m\u001b[1;33m.\u001b[0m\u001b[0mabs\u001b[0m\u001b[1;33m(\u001b[0m\u001b[0mnp\u001b[0m\u001b[1;33m.\u001b[0m\u001b[0mamax\u001b[0m\u001b[1;33m(\u001b[0m\u001b[0mtherm_sample\u001b[0m\u001b[1;33m)\u001b[0m\u001b[1;33m-\u001b[0m\u001b[0mnp\u001b[0m\u001b[1;33m.\u001b[0m\u001b[0mamin\u001b[0m\u001b[1;33m(\u001b[0m\u001b[0mtherm_sample\u001b[0m\u001b[1;33m)\u001b[0m\u001b[1;33m)\u001b[0m\u001b[1;33m,\u001b[0m\u001b[0mtolerance\u001b[0m\u001b[1;33m)\u001b[0m\u001b[1;33m)\u001b[0m\u001b[1;33m\u001b[0m\u001b[1;33m\u001b[0m\u001b[0m\n",
      "\u001b[1;32m~\\OneDrive\\Documenti\\GitHub\\MCDC-SpinSystem\\StatisticalAnalysis\\analysis_functions.py\u001b[0m in \u001b[0;36mmean\u001b[1;34m(x)\u001b[0m\n\u001b[0;32m      6\u001b[0m     \u001b[0msum\u001b[0m \u001b[1;33m=\u001b[0m \u001b[1;36m0\u001b[0m\u001b[1;33m\u001b[0m\u001b[1;33m\u001b[0m\u001b[0m\n\u001b[0;32m      7\u001b[0m     \u001b[1;32mfor\u001b[0m \u001b[0mi\u001b[0m \u001b[1;32min\u001b[0m \u001b[0mrange\u001b[0m\u001b[1;33m(\u001b[0m\u001b[1;36m0\u001b[0m\u001b[1;33m,\u001b[0m\u001b[0mlen\u001b[0m\u001b[1;33m(\u001b[0m\u001b[0mx\u001b[0m\u001b[1;33m)\u001b[0m\u001b[1;33m)\u001b[0m\u001b[1;33m:\u001b[0m\u001b[1;33m\u001b[0m\u001b[1;33m\u001b[0m\u001b[0m\n\u001b[1;32m----> 8\u001b[1;33m         \u001b[0msum\u001b[0m \u001b[1;33m+=\u001b[0m \u001b[0mx\u001b[0m\u001b[1;33m[\u001b[0m\u001b[0mi\u001b[0m\u001b[1;33m]\u001b[0m\u001b[1;33m\u001b[0m\u001b[1;33m\u001b[0m\u001b[0m\n\u001b[0m\u001b[0;32m      9\u001b[0m     \u001b[1;32mreturn\u001b[0m \u001b[0msum\u001b[0m\u001b[1;33m/\u001b[0m\u001b[0mlen\u001b[0m\u001b[1;33m(\u001b[0m\u001b[0mx\u001b[0m\u001b[1;33m)\u001b[0m\u001b[1;33m\u001b[0m\u001b[1;33m\u001b[0m\u001b[0m\n\u001b[0;32m     10\u001b[0m \u001b[1;33m\u001b[0m\u001b[0m\n",
      "\u001b[1;31mIndexError\u001b[0m: only integers, slices (`:`), ellipsis (`...`), numpy.newaxis (`None`) and integer or boolean arrays are valid indices"
     ]
    }
   ],
   "source": [
    "def thermalization(func, N, tolerance):\n",
    "  \n",
    "    L = len(func)\n",
    "    if L%N != 0:\n",
    "        print(\"Sample size provided not dividible by length of array, insert correct sample size\\n\")\n",
    "        return -1\n",
    "    \n",
    "    therm_sample = np.zeros(int(L/N))\n",
    "    \n",
    "    for n in range(0,len(therm_sample)):\n",
    "            therm_sample[n] = af.mean(func[int(n*N):int((n+1)*N -1)])\n",
    "            \n",
    "    print(\"Max difference between to samples of the observable = {} \\ttolerance = {}\\n\".format(np.abs(np.amax(therm_sample)-np.amin(therm_sample)),tolerance))\n",
    "    return np.abs(np.amax(therm_sample)-np.amin(therm_sample))\n",
    "thermalization(mockdata,10,1)"
   ]
  }
 ],
 "metadata": {
  "kernelspec": {
   "display_name": "Python 3",
   "language": "python",
   "name": "python3"
  },
  "language_info": {
   "codemirror_mode": {
    "name": "ipython",
    "version": 3
   },
   "file_extension": ".py",
   "mimetype": "text/x-python",
   "name": "python",
   "nbconvert_exporter": "python",
   "pygments_lexer": "ipython3",
   "version": "3.8.5"
  }
 },
 "nbformat": 4,
 "nbformat_minor": 4
}
