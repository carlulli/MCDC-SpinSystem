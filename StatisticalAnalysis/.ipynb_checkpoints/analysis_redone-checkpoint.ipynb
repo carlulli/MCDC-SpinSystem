{
 "cells": [
  {
   "cell_type": "code",
   "execution_count": 11,
   "metadata": {},
   "outputs": [
    {
     "name": "stdout",
     "output_type": "stream",
     "text": [
      "C:\\Users\\ardo0\\OneDrive\\Documenti\\GitHub\\MCDC-SpinSystem\\StatisticalAnalysis\n",
      "C:\\Users\\ardo0\\anaconda3\\python38.zip\n",
      "C:\\Users\\ardo0\\anaconda3\\DLLs\n",
      "C:\\Users\\ardo0\\anaconda3\\lib\n",
      "C:\\Users\\ardo0\\anaconda3\n",
      "\n",
      "C:\\Users\\ardo0\\anaconda3\\lib\\site-packages\n",
      "C:\\Users\\ardo0\\anaconda3\\lib\\site-packages\\win32\n",
      "C:\\Users\\ardo0\\anaconda3\\lib\\site-packages\\win32\\lib\n",
      "C:\\Users\\ardo0\\anaconda3\\lib\\site-packages\\Pythonwin\n",
      "C:\\Users\\ardo0\\anaconda3\\lib\\site-packages\\IPython\\extensions\n",
      "C:\\Users\\ardo0\\.ipython\n",
      "(60000,)\n"
     ]
    }
   ],
   "source": [
    "import numpy as np\n",
    "from matplotlib import pyplot as plt\n",
    "import analysis_functions as af\n",
    "import math\n",
    "import sys\n",
    "import pandas as pd\n",
    "from scipy import optimize\n",
    "\n",
    "\n",
    "for p in sys.path:\n",
    "    print(p)\n",
    "\n",
    "    \n",
    "data = np.loadtxt(r\"../data/stat_anal_test1.txt\",  usecols =(1))\n",
    "print(data.shape)\n"
   ]
  },
  {
   "cell_type": "code",
   "execution_count": null,
   "metadata": {},
   "outputs": [],
   "source": [
    "##Thermalization study\n",
    "1) plot the whole data set for visual investigation\n",
    "2) Divide the data set in m slices, checks that for each slice the mean values and the variance are similar"
   ]
  }
 ],
 "metadata": {
  "kernelspec": {
   "display_name": "Python 3",
   "language": "python",
   "name": "python3"
  },
  "language_info": {
   "codemirror_mode": {
    "name": "ipython",
    "version": 3
   },
   "file_extension": ".py",
   "mimetype": "text/x-python",
   "name": "python",
   "nbconvert_exporter": "python",
   "pygments_lexer": "ipython3",
   "version": "3.8.5"
  }
 },
 "nbformat": 4,
 "nbformat_minor": 4
}
